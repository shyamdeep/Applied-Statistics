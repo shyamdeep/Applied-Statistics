{
 "cells": [
  {
   "cell_type": "markdown",
   "id": "e8f0bda0",
   "metadata": {},
   "source": [
    " ## <center> AIML MODULE PROJECT - PART III"
   ]
  },
  {
   "cell_type": "code",
   "execution_count": 50,
   "id": "f572e711",
   "metadata": {},
   "outputs": [],
   "source": [
    "#Import the packages\n",
    "import pandas as pd\n",
    "import numpy as np\n",
    "import warnings\n",
    "import matplotlib.pyplot as plt\n",
    "warnings.filterwarnings(\"ignore\")"
   ]
  },
  {
   "cell_type": "markdown",
   "id": "09ad93fa",
   "metadata": {},
   "source": [
    "### 1. Data warehouse:\n",
    "<b>• Read the CSV file."
   ]
  },
  {
   "cell_type": "code",
   "execution_count": 29,
   "id": "254761cb",
   "metadata": {},
   "outputs": [],
   "source": [
    "#Load the dataset\n",
    "data= pd.read_csv(r\"D:\\LEARNING\\Great Learning\\PGP- AI ML\\COURSES\\APPLIED STATISTICS\\PROJECT\\DS - Part3 - CompanyX_EU.csv\")"
   ]
  },
  {
   "cell_type": "code",
   "execution_count": 30,
   "id": "f05980db",
   "metadata": {},
   "outputs": [
    {
     "name": "stdout",
     "output_type": "stream",
     "text": [
      "(662, 6)\n"
     ]
    },
    {
     "data": {
      "text/html": [
       "<div>\n",
       "<style scoped>\n",
       "    .dataframe tbody tr th:only-of-type {\n",
       "        vertical-align: middle;\n",
       "    }\n",
       "\n",
       "    .dataframe tbody tr th {\n",
       "        vertical-align: top;\n",
       "    }\n",
       "\n",
       "    .dataframe thead th {\n",
       "        text-align: right;\n",
       "    }\n",
       "</style>\n",
       "<table border=\"1\" class=\"dataframe\">\n",
       "  <thead>\n",
       "    <tr style=\"text-align: right;\">\n",
       "      <th></th>\n",
       "      <th>Startup</th>\n",
       "      <th>Product</th>\n",
       "      <th>Funding</th>\n",
       "      <th>Event</th>\n",
       "      <th>Result</th>\n",
       "      <th>OperatingState</th>\n",
       "    </tr>\n",
       "  </thead>\n",
       "  <tbody>\n",
       "    <tr>\n",
       "      <th>0</th>\n",
       "      <td>2600Hz</td>\n",
       "      <td>2600hz.com</td>\n",
       "      <td>NaN</td>\n",
       "      <td>Disrupt SF 2013</td>\n",
       "      <td>Contestant</td>\n",
       "      <td>Operating</td>\n",
       "    </tr>\n",
       "    <tr>\n",
       "      <th>1</th>\n",
       "      <td>3DLT</td>\n",
       "      <td>3dlt.com</td>\n",
       "      <td>$630K</td>\n",
       "      <td>Disrupt NYC 2013</td>\n",
       "      <td>Contestant</td>\n",
       "      <td>Closed</td>\n",
       "    </tr>\n",
       "    <tr>\n",
       "      <th>2</th>\n",
       "      <td>3DPrinterOS</td>\n",
       "      <td>3dprinteros.com</td>\n",
       "      <td>NaN</td>\n",
       "      <td>Disrupt SF 2016</td>\n",
       "      <td>Contestant</td>\n",
       "      <td>Operating</td>\n",
       "    </tr>\n",
       "    <tr>\n",
       "      <th>3</th>\n",
       "      <td>3Dprintler</td>\n",
       "      <td>3dprintler.com</td>\n",
       "      <td>$1M</td>\n",
       "      <td>Disrupt NY 2016</td>\n",
       "      <td>Audience choice</td>\n",
       "      <td>Operating</td>\n",
       "    </tr>\n",
       "    <tr>\n",
       "      <th>4</th>\n",
       "      <td>42 Technologies</td>\n",
       "      <td>42technologies.com</td>\n",
       "      <td>NaN</td>\n",
       "      <td>Disrupt NYC 2013</td>\n",
       "      <td>Contestant</td>\n",
       "      <td>Operating</td>\n",
       "    </tr>\n",
       "  </tbody>\n",
       "</table>\n",
       "</div>"
      ],
      "text/plain": [
       "           Startup             Product Funding             Event  \\\n",
       "0           2600Hz          2600hz.com     NaN   Disrupt SF 2013   \n",
       "1             3DLT            3dlt.com   $630K  Disrupt NYC 2013   \n",
       "2      3DPrinterOS     3dprinteros.com     NaN   Disrupt SF 2016   \n",
       "3       3Dprintler      3dprintler.com     $1M   Disrupt NY 2016   \n",
       "4  42 Technologies  42technologies.com     NaN  Disrupt NYC 2013   \n",
       "\n",
       "            Result OperatingState  \n",
       "0       Contestant      Operating  \n",
       "1       Contestant         Closed  \n",
       "2       Contestant      Operating  \n",
       "3  Audience choice      Operating  \n",
       "4       Contestant      Operating  "
      ]
     },
     "execution_count": 30,
     "metadata": {},
     "output_type": "execute_result"
    }
   ],
   "source": [
    "print(data.shape)\n",
    "data.head()"
   ]
  },
  {
   "cell_type": "markdown",
   "id": "b71069b2",
   "metadata": {},
   "source": [
    "### 2. Data exploration:\n",
    " <b> • Check the datatypes of each attribute.\n"
   ]
  },
  {
   "cell_type": "code",
   "execution_count": 31,
   "id": "75e9b304",
   "metadata": {},
   "outputs": [
    {
     "data": {
      "text/plain": [
       "Startup           object\n",
       "Product           object\n",
       "Funding           object\n",
       "Event             object\n",
       "Result            object\n",
       "OperatingState    object\n",
       "dtype: object"
      ]
     },
     "execution_count": 31,
     "metadata": {},
     "output_type": "execute_result"
    }
   ],
   "source": [
    "data.dtypes"
   ]
  },
  {
   "cell_type": "markdown",
   "id": "0976bc1f",
   "metadata": {},
   "source": [
    "<b>• Check for null values in the attributes."
   ]
  },
  {
   "cell_type": "code",
   "execution_count": 32,
   "id": "c60e1794",
   "metadata": {},
   "outputs": [
    {
     "data": {
      "text/plain": [
       "Startup             0\n",
       "Product             6\n",
       "Funding           214\n",
       "Event               0\n",
       "Result              0\n",
       "OperatingState      0\n",
       "dtype: int64"
      ]
     },
     "execution_count": 32,
     "metadata": {},
     "output_type": "execute_result"
    }
   ],
   "source": [
    "data.isna().sum()"
   ]
  },
  {
   "cell_type": "markdown",
   "id": "4133bb6e",
   "metadata": {},
   "source": [
    "### 3. Data preprocessing & visualisation:\n",
    "<b>• Drop the null values"
   ]
  },
  {
   "cell_type": "code",
   "execution_count": 33,
   "id": "2d3e689a",
   "metadata": {},
   "outputs": [],
   "source": [
    "data = data.dropna(axis = 0, how ='any')"
   ]
  },
  {
   "cell_type": "markdown",
   "id": "899f55d6",
   "metadata": {},
   "source": [
    "<b>• Convert the ‘Funding’ features to a numerical value."
   ]
  },
  {
   "cell_type": "code",
   "execution_count": 34,
   "id": "b2db9f93",
   "metadata": {},
   "outputs": [],
   "source": [
    "#Derive a new column called funding multiplier\n",
    "data['Funding_multiplier'] = data['Funding'].apply(lambda x:x[-1])"
   ]
  },
  {
   "cell_type": "code",
   "execution_count": 35,
   "id": "225e762e",
   "metadata": {},
   "outputs": [
    {
     "data": {
      "text/plain": [
       "M    309\n",
       "K    136\n",
       "B      1\n",
       "Name: Funding_multiplier, dtype: int64"
      ]
     },
     "execution_count": 35,
     "metadata": {},
     "output_type": "execute_result"
    }
   ],
   "source": [
    "data['Funding_multiplier'].value_counts()"
   ]
  },
  {
   "cell_type": "code",
   "execution_count": 37,
   "id": "8411e810",
   "metadata": {},
   "outputs": [
    {
     "data": {
      "text/html": [
       "<div>\n",
       "<style scoped>\n",
       "    .dataframe tbody tr th:only-of-type {\n",
       "        vertical-align: middle;\n",
       "    }\n",
       "\n",
       "    .dataframe tbody tr th {\n",
       "        vertical-align: top;\n",
       "    }\n",
       "\n",
       "    .dataframe thead th {\n",
       "        text-align: right;\n",
       "    }\n",
       "</style>\n",
       "<table border=\"1\" class=\"dataframe\">\n",
       "  <thead>\n",
       "    <tr style=\"text-align: right;\">\n",
       "      <th></th>\n",
       "      <th>Startup</th>\n",
       "      <th>Product</th>\n",
       "      <th>Funding</th>\n",
       "      <th>Event</th>\n",
       "      <th>Result</th>\n",
       "      <th>OperatingState</th>\n",
       "      <th>Funding_multiplier</th>\n",
       "    </tr>\n",
       "  </thead>\n",
       "  <tbody>\n",
       "    <tr>\n",
       "      <th>1</th>\n",
       "      <td>3DLT</td>\n",
       "      <td>3dlt.com</td>\n",
       "      <td>630</td>\n",
       "      <td>Disrupt NYC 2013</td>\n",
       "      <td>Contestant</td>\n",
       "      <td>Closed</td>\n",
       "      <td>K</td>\n",
       "    </tr>\n",
       "    <tr>\n",
       "      <th>3</th>\n",
       "      <td>3Dprintler</td>\n",
       "      <td>3dprintler.com</td>\n",
       "      <td>1</td>\n",
       "      <td>Disrupt NY 2016</td>\n",
       "      <td>Audience choice</td>\n",
       "      <td>Operating</td>\n",
       "      <td>M</td>\n",
       "    </tr>\n",
       "    <tr>\n",
       "      <th>5</th>\n",
       "      <td>5to1</td>\n",
       "      <td>5to1.com</td>\n",
       "      <td>19.3</td>\n",
       "      <td>TC50 2009</td>\n",
       "      <td>Contestant</td>\n",
       "      <td>Acquired</td>\n",
       "      <td>M</td>\n",
       "    </tr>\n",
       "    <tr>\n",
       "      <th>6</th>\n",
       "      <td>8 Securities</td>\n",
       "      <td>8securities.com</td>\n",
       "      <td>29</td>\n",
       "      <td>Disrupt Beijing 2011</td>\n",
       "      <td>Finalist</td>\n",
       "      <td>Operating</td>\n",
       "      <td>M</td>\n",
       "    </tr>\n",
       "    <tr>\n",
       "      <th>10</th>\n",
       "      <td>AdhereTech</td>\n",
       "      <td>adheretech.com</td>\n",
       "      <td>1.8</td>\n",
       "      <td>Hardware Battlefield 2014</td>\n",
       "      <td>Contestant</td>\n",
       "      <td>Operating</td>\n",
       "      <td>M</td>\n",
       "    </tr>\n",
       "  </tbody>\n",
       "</table>\n",
       "</div>"
      ],
      "text/plain": [
       "         Startup          Product Funding                      Event  \\\n",
       "1           3DLT         3dlt.com     630           Disrupt NYC 2013   \n",
       "3     3Dprintler   3dprintler.com       1            Disrupt NY 2016   \n",
       "5           5to1         5to1.com    19.3                  TC50 2009   \n",
       "6   8 Securities  8securities.com      29       Disrupt Beijing 2011   \n",
       "10    AdhereTech   adheretech.com     1.8  Hardware Battlefield 2014   \n",
       "\n",
       "             Result OperatingState Funding_multiplier  \n",
       "1        Contestant         Closed                  K  \n",
       "3   Audience choice      Operating                  M  \n",
       "5        Contestant       Acquired                  M  \n",
       "6          Finalist      Operating                  M  \n",
       "10       Contestant      Operating                  M  "
      ]
     },
     "execution_count": 37,
     "metadata": {},
     "output_type": "execute_result"
    }
   ],
   "source": [
    "#Removing the $,K,M,B Symbol\n",
    "symbols = ['$','K','M','B']\n",
    "for ch in symbols:\n",
    "    data['Funding'] = data['Funding'].str.replace(ch,\"\")\n",
    "data.head()"
   ]
  },
  {
   "cell_type": "code",
   "execution_count": 43,
   "id": "df120ebd",
   "metadata": {},
   "outputs": [],
   "source": [
    "#convert funding to float\n",
    "data['Funding'] = data['Funding'].astype(float)"
   ]
  },
  {
   "cell_type": "code",
   "execution_count": 48,
   "id": "26342151",
   "metadata": {},
   "outputs": [],
   "source": [
    "def fund_multiplier(Funding_multiplier,Funding):\n",
    "    if Funding_multiplier =='K':\n",
    "        new_fund = Funding*pow(10,3)\n",
    "    elif Funding_multiplier =='M':\n",
    "        new_fund = Funding*pow(10,6)\n",
    "    elif Funding_multiplier =='B':\n",
    "        new_fund = Funding*pow(10,9)  \n",
    "        \n",
    "    return new_fund\n",
    "        \n",
    "\n",
    "data[\"New_Funding\"] = data[[\"Funding_multiplier\", \"Funding\"]].apply(lambda x : fund_multiplier(*x), axis=1)"
   ]
  },
  {
   "cell_type": "code",
   "execution_count": 51,
   "id": "407bcca9",
   "metadata": {},
   "outputs": [
    {
     "data": {
      "text/html": [
       "<div>\n",
       "<style scoped>\n",
       "    .dataframe tbody tr th:only-of-type {\n",
       "        vertical-align: middle;\n",
       "    }\n",
       "\n",
       "    .dataframe tbody tr th {\n",
       "        vertical-align: top;\n",
       "    }\n",
       "\n",
       "    .dataframe thead th {\n",
       "        text-align: right;\n",
       "    }\n",
       "</style>\n",
       "<table border=\"1\" class=\"dataframe\">\n",
       "  <thead>\n",
       "    <tr style=\"text-align: right;\">\n",
       "      <th></th>\n",
       "      <th>Startup</th>\n",
       "      <th>Product</th>\n",
       "      <th>Old_Funding</th>\n",
       "      <th>Event</th>\n",
       "      <th>Result</th>\n",
       "      <th>OperatingState</th>\n",
       "      <th>Funding_multiplier</th>\n",
       "      <th>Funding</th>\n",
       "    </tr>\n",
       "  </thead>\n",
       "  <tbody>\n",
       "    <tr>\n",
       "      <th>1</th>\n",
       "      <td>3DLT</td>\n",
       "      <td>3dlt.com</td>\n",
       "      <td>630.0</td>\n",
       "      <td>Disrupt NYC 2013</td>\n",
       "      <td>Contestant</td>\n",
       "      <td>Closed</td>\n",
       "      <td>K</td>\n",
       "      <td>630000.0</td>\n",
       "    </tr>\n",
       "    <tr>\n",
       "      <th>3</th>\n",
       "      <td>3Dprintler</td>\n",
       "      <td>3dprintler.com</td>\n",
       "      <td>1.0</td>\n",
       "      <td>Disrupt NY 2016</td>\n",
       "      <td>Audience choice</td>\n",
       "      <td>Operating</td>\n",
       "      <td>M</td>\n",
       "      <td>1000000.0</td>\n",
       "    </tr>\n",
       "    <tr>\n",
       "      <th>5</th>\n",
       "      <td>5to1</td>\n",
       "      <td>5to1.com</td>\n",
       "      <td>19.3</td>\n",
       "      <td>TC50 2009</td>\n",
       "      <td>Contestant</td>\n",
       "      <td>Acquired</td>\n",
       "      <td>M</td>\n",
       "      <td>19300000.0</td>\n",
       "    </tr>\n",
       "    <tr>\n",
       "      <th>6</th>\n",
       "      <td>8 Securities</td>\n",
       "      <td>8securities.com</td>\n",
       "      <td>29.0</td>\n",
       "      <td>Disrupt Beijing 2011</td>\n",
       "      <td>Finalist</td>\n",
       "      <td>Operating</td>\n",
       "      <td>M</td>\n",
       "      <td>29000000.0</td>\n",
       "    </tr>\n",
       "    <tr>\n",
       "      <th>10</th>\n",
       "      <td>AdhereTech</td>\n",
       "      <td>adheretech.com</td>\n",
       "      <td>1.8</td>\n",
       "      <td>Hardware Battlefield 2014</td>\n",
       "      <td>Contestant</td>\n",
       "      <td>Operating</td>\n",
       "      <td>M</td>\n",
       "      <td>1800000.0</td>\n",
       "    </tr>\n",
       "  </tbody>\n",
       "</table>\n",
       "</div>"
      ],
      "text/plain": [
       "         Startup          Product  Old_Funding                      Event  \\\n",
       "1           3DLT         3dlt.com        630.0           Disrupt NYC 2013   \n",
       "3     3Dprintler   3dprintler.com          1.0            Disrupt NY 2016   \n",
       "5           5to1         5to1.com         19.3                  TC50 2009   \n",
       "6   8 Securities  8securities.com         29.0       Disrupt Beijing 2011   \n",
       "10    AdhereTech   adheretech.com          1.8  Hardware Battlefield 2014   \n",
       "\n",
       "             Result OperatingState Funding_multiplier     Funding  \n",
       "1        Contestant         Closed                  K    630000.0  \n",
       "3   Audience choice      Operating                  M   1000000.0  \n",
       "5        Contestant       Acquired                  M  19300000.0  \n",
       "6          Finalist      Operating                  M  29000000.0  \n",
       "10       Contestant      Operating                  M   1800000.0  "
      ]
     },
     "execution_count": 51,
     "metadata": {},
     "output_type": "execute_result"
    }
   ],
   "source": [
    "data.rename(columns={'Funding':'Old_Funding','New_Funding':'Funding'},inplace=True)\n",
    "data.head()"
   ]
  },
  {
   "cell_type": "markdown",
   "id": "a5581711",
   "metadata": {},
   "source": [
    "<b>• Plot box plot for funds in million."
   ]
  },
  {
   "cell_type": "code",
   "execution_count": 89,
   "id": "8e3b52c3",
   "metadata": {},
   "outputs": [
    {
     "data": {
      "image/png": "[encoded data removed]",
      "text/plain": [
       "<Figure size 432x288 with 1 Axes>"
      ]
     },
     "metadata": {},
     "output_type": "display_data"
    }
   ],
   "source": [
    "data[\"Funding_million\"] = data[\"Funding\"]/(pow(10,6))\n",
    "B = plt.boxplot(data[\"Funding_million\"])"
   ]
  },
  {
   "cell_type": "markdown",
   "id": "9f7fdc44",
   "metadata": {},
   "source": [
    "<b>• Get the lower fence from the box plot."
   ]
  },
  {
   "cell_type": "code",
   "execution_count": 90,
   "id": "bc2b8868",
   "metadata": {},
   "outputs": [
    {
     "data": {
      "text/plain": [
       "[array([0.74525, 0.005  ]), array([ 9.475, 22.   ])]"
      ]
     },
     "execution_count": 90,
     "metadata": {},
     "output_type": "execute_result"
    }
   ],
   "source": [
    "[item.get_ydata() for item in B['whiskers']]"
   ]
  },
  {
   "cell_type": "code",
   "execution_count": 77,
   "id": "142b36bb",
   "metadata": {},
   "outputs": [],
   "source": [
    "median = np.median(data[\"Funding_million\"])\n",
    "upper_quartile = np.percentile(data[\"Funding_million\"], 75)\n",
    "lower_quartile = np.percentile(data[\"Funding_million\"], 25)\n",
    "\n",
    "iqr = upper_quartile - lower_quartile\n",
    "upper_whisker = data[\"Funding_million\"][data[\"Funding_million\"]<=upper_quartile+1.5*iqr].max()\n",
    "lower_whisker = data[\"Funding_million\"][data[\"Funding_million\"]>=lower_quartile-1.5*iqr].min()"
   ]
  },
  {
   "cell_type": "code",
   "execution_count": 93,
   "id": "f3756f42",
   "metadata": {},
   "outputs": [
    {
     "name": "stdout",
     "output_type": "stream",
     "text": [
      "median : 2.2\n",
      "upper_quartile : 9.475\n",
      "lower_quartile : 0.74525\n",
      "iqr : 8.72975\n",
      "upper_whisker : 22.0\n",
      "lower_whisker : 0.005\n"
     ]
    }
   ],
   "source": [
    "print(\"median :\" ,median)\n",
    "print(\"upper_quartile :\",upper_quartile)\n",
    "print(\"lower_quartile :\",lower_quartile)\n",
    "print(\"iqr :\",iqr)\n",
    "print(\"upper_whisker :\",upper_whisker)\n",
    "print(\"lower_whisker :\",lower_whisker)"
   ]
  },
  {
   "cell_type": "markdown",
   "id": "12a7d58f",
   "metadata": {},
   "source": [
    "<b>• Check number of outliers greater than upper fence."
   ]
  },
  {
   "cell_type": "code",
   "execution_count": 97,
   "id": "d14ca4d8",
   "metadata": {},
   "outputs": [
    {
     "data": {
      "text/plain": [
       "60"
      ]
     },
     "execution_count": 97,
     "metadata": {},
     "output_type": "execute_result"
    }
   ],
   "source": [
    "data[data[\"Funding_million\"]>upper_whisker].shape[0]"
   ]
  },
  {
   "cell_type": "markdown",
   "id": "e779430e",
   "metadata": {},
   "source": [
    "<b> • Drop the values that are greater than upper fence."
   ]
  },
  {
   "cell_type": "code",
   "execution_count": 105,
   "id": "63c29a2d",
   "metadata": {},
   "outputs": [],
   "source": [
    "data1 = data[data[\"Funding_million\"]<=upper_whisker]"
   ]
  },
  {
   "cell_type": "markdown",
   "id": "e9927296",
   "metadata": {},
   "source": [
    "<b>• Plot the box plot after dropping the values."
   ]
  },
  {
   "cell_type": "code",
   "execution_count": 106,
   "id": "015271a6",
   "metadata": {},
   "outputs": [
    {
     "data": {
      "image/png": "[encoded data removed]",
      "text/plain": [
       "<Figure size 432x288 with 1 Axes>"
      ]
     },
     "metadata": {},
     "output_type": "display_data"
    }
   ],
   "source": [
    "B = plt.boxplot(data1[\"Funding_million\"])"
   ]
  },
  {
   "cell_type": "markdown",
   "id": "65c3c72d",
   "metadata": {},
   "source": [
    "<b>• Check frequency of the OperatingState features classes."
   ]
  },
  {
   "cell_type": "code",
   "execution_count": 109,
   "id": "1e741e3d",
   "metadata": {},
   "outputs": [
    {
     "data": {
      "text/plain": [
       "Operating    275\n",
       "Closed        56\n",
       "Acquired      55\n",
       "Name: OperatingState, dtype: int64"
      ]
     },
     "execution_count": 109,
     "metadata": {},
     "output_type": "execute_result"
    },
    {
     "data": {
      "image/png": "[encoded data removed]",
      "text/plain": [
       "<Figure size 432x288 with 1 Axes>"
      ]
     },
     "metadata": {},
     "output_type": "display_data"
    }
   ],
   "source": [
    "data1[\"OperatingState\"].value_counts().plot(kind='bar')\n",
    "data1[\"OperatingState\"].value_counts()"
   ]
  },
  {
   "cell_type": "markdown",
   "id": "a77aa664",
   "metadata": {},
   "source": [
    "<b>• Plot a distribution plot for Funds in million."
   ]
  },
  {
   "cell_type": "code",
   "execution_count": 111,
   "id": "d7cffecc",
   "metadata": {},
   "outputs": [
    {
     "data": {
      "text/plain": [
       "<AxesSubplot:xlabel='Funding_million'>"
      ]
     },
     "execution_count": 111,
     "metadata": {},
     "output_type": "execute_result"
    },
    {
     "data": {
      "image/png": "[encoded data removed]",
      "text/plain": [
       "<Figure size 432x288 with 1 Axes>"
      ]
     },
     "metadata": {},
     "output_type": "display_data"
    }
   ],
   "source": [
    "sns.distplot(data1[\"Funding_million\"],kde=False)"
   ]
  },
  {
   "cell_type": "markdown",
   "id": "a797dfe6",
   "metadata": {},
   "source": [
    "<b>• Plot distribution plots for companies still operating and companies that closed."
   ]
  },
  {
   "cell_type": "code",
   "execution_count": 114,
   "id": "c08dd62a",
   "metadata": {},
   "outputs": [
    {
     "data": {
      "image/png": "[encoded data removed]",
      "text/plain": [
       "<Figure size 432x288 with 4 Axes>"
      ]
     },
     "metadata": {},
     "output_type": "display_data"
    }
   ],
   "source": [
    "data1.hist(by='OperatingState',column = 'Funding_million')"
   ]
  },
  {
   "cell_type": "markdown",
   "id": "d7c64631",
   "metadata": {},
   "source": [
    "### 4. Statistical analysis:"
   ]
  },
  {
   "cell_type": "markdown",
   "id": "404a3143",
   "metadata": {},
   "source": [
    "<b>• Is there any significant difference between Funds raised by companies that are still operating vs companies that closed down?\n",
    "Write the null hypothesis and alternative hypothesis.\n",
    "Test for significance and conclusion"
   ]
  },
  {
   "cell_type": "markdown",
   "id": "038b2c3a",
   "metadata": {},
   "source": [
    "Test of Variance"
   ]
  },
  {
   "cell_type": "code",
   "execution_count": 138,
   "id": "561c2d0f",
   "metadata": {},
   "outputs": [
    {
     "data": {
      "text/plain": [
       "(275, 9)"
      ]
     },
     "execution_count": 138,
     "metadata": {},
     "output_type": "execute_result"
    }
   ],
   "source": [
    "data1[data1[\"OperatingState\"]==\"Operating\"].shape"
   ]
  },
  {
   "cell_type": "code",
   "execution_count": 139,
   "id": "0be412ae",
   "metadata": {},
   "outputs": [
    {
     "data": {
      "text/plain": [
       "(56, 9)"
      ]
     },
     "execution_count": 139,
     "metadata": {},
     "output_type": "execute_result"
    }
   ],
   "source": [
    "data1[data1[\"OperatingState\"]==\"Closed\"].shape"
   ]
  },
  {
   "cell_type": "code",
   "execution_count": 148,
   "id": "6e5b4155",
   "metadata": {},
   "outputs": [],
   "source": [
    "sample_operating = data1[data1[\"OperatingState\"]==\"Operating\"].Funding_million.sample(n=56) # To make the sample length equal\n",
    "sample_closed = data1[data1[\"OperatingState\"]==\"Closed\"].Funding_million"
   ]
  },
  {
   "cell_type": "code",
   "execution_count": 149,
   "id": "7e69ee00",
   "metadata": {},
   "outputs": [
    {
     "name": "stdout",
     "output_type": "stream",
     "text": [
      "18.943869533568236 16.19079137606824\n"
     ]
    }
   ],
   "source": [
    "v1, v2 = np.var(sample_operating) , np.var(sample_closed)\n",
    "print(v1,v2)"
   ]
  },
  {
   "cell_type": "markdown",
   "id": "1ca92393",
   "metadata": {},
   "source": [
    "Variances of Funding of Operating is higher than it is for Closed. But is the difference statistically significant?\n",
    "<br>\n",
    "Ho : Variation in Funds rasied by operating and closed companies is equal same\n",
    "<br>\n",
    "Ha : Variation inin Funds rasied by operating companies greater than it is in closed companies."
   ]
  },
  {
   "cell_type": "code",
   "execution_count": 150,
   "id": "9c185477",
   "metadata": {},
   "outputs": [],
   "source": [
    "n = 56  # number of samples\n",
    "dof = n - 1  # degrees of freedom\n",
    "alpha = 0.05  # significance level\n",
    "chi_critical = 73.31    # critical chi_squared statistic. From the table "
   ]
  },
  {
   "cell_type": "code",
   "execution_count": 151,
   "id": "32a26ce0",
   "metadata": {},
   "outputs": [
    {
     "name": "stdout",
     "output_type": "stream",
     "text": [
      "Since the test statistic is less than the critical value, we fail to reject the null\n"
     ]
    }
   ],
   "source": [
    "chi = (dof*v1)/v2\n",
    "\n",
    "if chi < chi_critical:\n",
    "    print(\"Since the test statistic is less than the critical value, we fail to reject the null\")\n",
    "else:\n",
    "    print(\"Since the test statistic is more than the critical value, we reject the null\")"
   ]
  },
  {
   "cell_type": "markdown",
   "id": "f242f1df",
   "metadata": {},
   "source": [
    "<b>• Make a copy of the original data frame"
   ]
  },
  {
   "cell_type": "code",
   "execution_count": 152,
   "id": "f24d304c",
   "metadata": {},
   "outputs": [],
   "source": [
    "#Load the dataset\n",
    "data_copy= pd.read_csv(r\"D:\\LEARNING\\Great Learning\\PGP- AI ML\\COURSES\\APPLIED STATISTICS\\PROJECT\\DS - Part3 - CompanyX_EU.csv\")"
   ]
  },
  {
   "cell_type": "markdown",
   "id": "50341910",
   "metadata": {},
   "source": [
    "<b>• Check frequency distribution of Result variable."
   ]
  },
  {
   "cell_type": "code",
   "execution_count": 156,
   "id": "3752431a",
   "metadata": {},
   "outputs": [
    {
     "data": {
      "text/plain": [
       "Contestant         488\n",
       "Finalist            84\n",
       "Audience choice     41\n",
       "Winner              26\n",
       "Runner up           23\n",
       "Name: Result, dtype: int64"
      ]
     },
     "execution_count": 156,
     "metadata": {},
     "output_type": "execute_result"
    },
    {
     "data": {
      "image/png": "[encoded data removed]",
      "text/plain": [
       "<Figure size 432x288 with 1 Axes>"
      ]
     },
     "metadata": {},
     "output_type": "display_data"
    }
   ],
   "source": [
    "data_copy[\"OperatingState\"].value_counts().plot(kind='bar')\n",
    "\n",
    "data_copy[\"Result\"].value_counts()"
   ]
  },
  {
   "cell_type": "markdown",
   "id": "1e765d7c",
   "metadata": {},
   "source": [
    "<b>• Calculate percentage of winners that are still operating and percentage of contestants that are still operating"
   ]
  },
  {
   "cell_type": "code",
   "execution_count": 192,
   "id": "f617f262",
   "metadata": {},
   "outputs": [],
   "source": [
    "Winners_Operating = data_copy[data_copy['Result'] == 'Winner'].OperatingState.value_counts()[0]\n",
    "Contestants_Operating = data_copy[data_copy['Result']=='Contestant'].OperatingState.value_counts()[0]\n",
    "No_Winners = data_copy['Result'].value_counts()[3]\n",
    "No_Contestants = data_copy['Result'].value_counts()[0]"
   ]
  },
  {
   "cell_type": "code",
   "execution_count": 195,
   "id": "1e5ed9ff",
   "metadata": {},
   "outputs": [
    {
     "name": "stdout",
     "output_type": "stream",
     "text": [
      "[19, 332] [26, 488]\n",
      " Percentage of Operating in Winners,Contestants  = 0.73%, 0.68% respectively\n"
     ]
    }
   ],
   "source": [
    "print([Winners_Operating, Contestants_Operating] , [No_Winners, No_Contestants])\n",
    "print(f' Percentage of Operating in Winners,Contestants  = {round(19/26,2)}%, {round(332/488,2)}% respectively')"
   ]
  },
  {
   "cell_type": "markdown",
   "id": "d15e9259",
   "metadata": {},
   "source": [
    "<b>• Write your hypothesis comparing the proportion of companies that are operating between winners and contestants:\n",
    " Write the null hypothesis and alternative hypothesis.\n",
    " Test for significance and conclusion"
   ]
  },
  {
   "cell_type": "markdown",
   "id": "a8bfc9c9",
   "metadata": {},
   "source": [
    "#### Ho = The proportions are equal\n",
    "#### Ha = The two proportions are not equal"
   ]
  },
  {
   "cell_type": "code",
   "execution_count": 196,
   "id": "f4e5d252",
   "metadata": {},
   "outputs": [
    {
     "name": "stdout",
     "output_type": "stream",
     "text": [
      "With a p-value of 0.5902 the difference is not significant. aka |We fail to reject the null|\n"
     ]
    }
   ],
   "source": [
    "from statsmodels.stats.proportion import proportions_ztest\n",
    "\n",
    "stat, pval = proportions_ztest([Winners_Operating, Contestants_Operating] , [No_Winners, No_Contestants])\n",
    "\n",
    "if pval < 0.05:\n",
    "    print(f'With a p-value of {round(pval,4)} the difference is significant. aka |We reject the null|')\n",
    "else:\n",
    "    print(f'With a p-value of {round(pval,4)} the difference is not significant. aka |We fail to reject the null|')"
   ]
  },
  {
   "cell_type": "markdown",
   "id": "481dc226",
   "metadata": {},
   "source": [
    "<b>• Check distribution of the Event variable."
   ]
  },
  {
   "cell_type": "code",
   "execution_count": 200,
   "id": "dd0ed06a",
   "metadata": {},
   "outputs": [
    {
     "data": {
      "text/plain": [
       "TC50 2008                    52\n",
       "TC50 2009                    50\n",
       "TC40 2007                    40\n",
       "Disrupt NYC 2011             32\n",
       "Disrupt NYC 2013             31\n",
       "Disrupt SF 2011              31\n",
       "Disrupt SF 2013              31\n",
       "Disrupt SF 2012              30\n",
       "Disrupt NYC 2012             30\n",
       "Disrupt SF 2014              28\n",
       "Disrupt SF 2015              27\n",
       "Disrupt NYC 2014             27\n",
       "Disrupt SF 2016              26\n",
       "Disrupt SF 2010              26\n",
       "Disrupt NY 2015              26\n",
       "Disrupt NY 2016              22\n",
       "Disrupt NYC 2010             22\n",
       "Disrupt Beijing 2011         18\n",
       "Disrupt London 2015          15\n",
       "Hardware Battlefield 2015    15\n",
       "Disrupt EU 2013              15\n",
       "Disrupt EU 2014              15\n",
       "Hardware Battlefield 2014    14\n",
       "Disrupt London 2016          13\n",
       "Hardware Battlefield 2016    13\n",
       "-                            13\n",
       "Name: Event, dtype: int64"
      ]
     },
     "execution_count": 200,
     "metadata": {},
     "output_type": "execute_result"
    },
    {
     "data": {
      "image/png": "[encoded data removed]",
      "text/plain": [
       "<Figure size 432x288 with 1 Axes>"
      ]
     },
     "metadata": {},
     "output_type": "display_data"
    }
   ],
   "source": [
    "data_copy[\"Event\"].value_counts().plot(kind='bar')\n",
    "data_copy['Event'].value_counts()"
   ]
  },
  {
   "cell_type": "markdown",
   "id": "dd679bb5",
   "metadata": {},
   "source": [
    "<b>• Select only the Event that has disrupt keyword from 2013 onwards"
   ]
  },
  {
   "cell_type": "code",
   "execution_count": 212,
   "id": "4d9d8a90",
   "metadata": {},
   "outputs": [
    {
     "data": {
      "text/html": [
       "<div>\n",
       "<style scoped>\n",
       "    .dataframe tbody tr th:only-of-type {\n",
       "        vertical-align: middle;\n",
       "    }\n",
       "\n",
       "    .dataframe tbody tr th {\n",
       "        vertical-align: top;\n",
       "    }\n",
       "\n",
       "    .dataframe thead th {\n",
       "        text-align: right;\n",
       "    }\n",
       "</style>\n",
       "<table border=\"1\" class=\"dataframe\">\n",
       "  <thead>\n",
       "    <tr style=\"text-align: right;\">\n",
       "      <th></th>\n",
       "      <th>Startup</th>\n",
       "      <th>Product</th>\n",
       "      <th>Funding</th>\n",
       "      <th>Event</th>\n",
       "      <th>Result</th>\n",
       "      <th>OperatingState</th>\n",
       "    </tr>\n",
       "  </thead>\n",
       "  <tbody>\n",
       "    <tr>\n",
       "      <th>0</th>\n",
       "      <td>2600Hz</td>\n",
       "      <td>2600hz.com</td>\n",
       "      <td>NaN</td>\n",
       "      <td>Disrupt SF 2013</td>\n",
       "      <td>Contestant</td>\n",
       "      <td>Operating</td>\n",
       "    </tr>\n",
       "    <tr>\n",
       "      <th>1</th>\n",
       "      <td>3DLT</td>\n",
       "      <td>3dlt.com</td>\n",
       "      <td>$630K</td>\n",
       "      <td>Disrupt NYC 2013</td>\n",
       "      <td>Contestant</td>\n",
       "      <td>Closed</td>\n",
       "    </tr>\n",
       "    <tr>\n",
       "      <th>2</th>\n",
       "      <td>3DPrinterOS</td>\n",
       "      <td>3dprinteros.com</td>\n",
       "      <td>NaN</td>\n",
       "      <td>Disrupt SF 2016</td>\n",
       "      <td>Contestant</td>\n",
       "      <td>Operating</td>\n",
       "    </tr>\n",
       "    <tr>\n",
       "      <th>3</th>\n",
       "      <td>3Dprintler</td>\n",
       "      <td>3dprintler.com</td>\n",
       "      <td>$1M</td>\n",
       "      <td>Disrupt NY 2016</td>\n",
       "      <td>Audience choice</td>\n",
       "      <td>Operating</td>\n",
       "    </tr>\n",
       "    <tr>\n",
       "      <th>4</th>\n",
       "      <td>42 Technologies</td>\n",
       "      <td>42technologies.com</td>\n",
       "      <td>NaN</td>\n",
       "      <td>Disrupt NYC 2013</td>\n",
       "      <td>Contestant</td>\n",
       "      <td>Operating</td>\n",
       "    </tr>\n",
       "  </tbody>\n",
       "</table>\n",
       "</div>"
      ],
      "text/plain": [
       "           Startup             Product Funding             Event  \\\n",
       "0           2600Hz          2600hz.com     NaN   Disrupt SF 2013   \n",
       "1             3DLT            3dlt.com   $630K  Disrupt NYC 2013   \n",
       "2      3DPrinterOS     3dprinteros.com     NaN   Disrupt SF 2016   \n",
       "3       3Dprintler      3dprintler.com     $1M   Disrupt NY 2016   \n",
       "4  42 Technologies  42technologies.com     NaN  Disrupt NYC 2013   \n",
       "\n",
       "            Result OperatingState  \n",
       "0       Contestant      Operating  \n",
       "1       Contestant         Closed  \n",
       "2       Contestant      Operating  \n",
       "3  Audience choice      Operating  \n",
       "4       Contestant      Operating  "
      ]
     },
     "execution_count": 212,
     "metadata": {},
     "output_type": "execute_result"
    }
   ],
   "source": [
    "data_copy[(data_copy[\"Event\"].str.contains(\"Disrupt\", na=False)) &\n",
    "          (data_copy[\"Event\"].str.contains(\"2013|2014|2015|2016\", na=False))].head()"
   ]
  },
  {
   "cell_type": "markdown",
   "id": "bdc616d6",
   "metadata": {},
   "source": [
    "<b>• Write and perform your hypothesis along with significance test comparing the funds raised by companies across NY, SF and EU events from\n",
    "2013 onwards."
   ]
  },
  {
   "cell_type": "markdown",
   "id": "94eb8708",
   "metadata": {},
   "source": [
    "#### Step 1: State the null and alternative hypothesis:\n",
    "\n",
    "* $H_0$: $\\mu1$ = $\\mu2$ = $\\mu3$\n",
    "* $H_A$: At least one $\\mu$ differs \n",
    "\n",
    "Here $\\mu1$, $\\mu2$ and $\\mu3$ are the mean mean funds raised by companies across NY,SF and EU Events respectively."
   ]
  },
  {
   "cell_type": "code",
   "execution_count": 239,
   "id": "5e6ecab4",
   "metadata": {},
   "outputs": [],
   "source": [
    "new_df1 = pd.DataFrame()\n",
    "new_df1[\"Funds\"] = data1[(data1[\"Event\"].str.contains(\"NY\", na=False)) & (data1[\"Event\"].str.contains(\"NYC\", na=False)==False)&\n",
    "          (data1[\"Event\"].str.contains(\"2013|2014|2015|2016\", na=False))][\"Funding\"].reset_index(drop=True)\n",
    "new_df1[\"Event\"] = 'NY'\n",
    "new_df1 = new_df1[['Event','Funds']]"
   ]
  },
  {
   "cell_type": "code",
   "execution_count": 240,
   "id": "7a113ac3",
   "metadata": {},
   "outputs": [],
   "source": [
    "new_df2 = pd.DataFrame()\n",
    "new_df2[\"Funds\"] = data1[(data1[\"Event\"].str.contains(\"SF\", na=False)) &\n",
    "          (data1[\"Event\"].str.contains(\"2013|2014|2015|2016\", na=False))][\"Funding\"].reset_index(drop=True)\n",
    "new_df2[\"Event\"] = 'SF'\n",
    "new_df2 = new_df2[['Event','Funds']]"
   ]
  },
  {
   "cell_type": "code",
   "execution_count": 242,
   "id": "0cd68e3e",
   "metadata": {},
   "outputs": [],
   "source": [
    "new_df3 = pd.DataFrame()\n",
    "new_df3[\"Funds\"] = data1[(data1[\"Event\"].str.contains(\"EU\", na=False)) &\n",
    "          (data1[\"Event\"].str.contains(\"2013|2014|2015|2016\", na=False))][\"Funding\"].reset_index(drop=True)\n",
    "new_df3[\"Event\"] = 'EU'\n",
    "new_df3 = new_df3[['Event','Funds']]"
   ]
  },
  {
   "cell_type": "code",
   "execution_count": 246,
   "id": "fc31320a",
   "metadata": {},
   "outputs": [],
   "source": [
    "new_df = pd.concat([new_df1,new_df2,new_df3],axis=0)"
   ]
  },
  {
   "cell_type": "code",
   "execution_count": 254,
   "id": "356becda",
   "metadata": {},
   "outputs": [
    {
     "data": {
      "image/png": "[encoded data removed]",
      "text/plain": [
       "<Figure size 432x288 with 1 Axes>"
      ]
     },
     "metadata": {},
     "output_type": "display_data"
    }
   ],
   "source": [
    "import matplotlib.pyplot as plt\n",
    "import seaborn as sns\n",
    "ax = sns.boxplot(x='Event', y='Funds', data=new_df, color='#99c2a2')\n",
    "ax = sns.swarmplot(x=\"Event\", y=\"Funds\", data=new_df, color='#7d0013')\n",
    "plt.show()"
   ]
  },
  {
   "cell_type": "code",
   "execution_count": 258,
   "id": "24d85bf5",
   "metadata": {},
   "outputs": [
    {
     "data": {
      "text/html": [
       "<div>\n",
       "<style scoped>\n",
       "    .dataframe tbody tr th:only-of-type {\n",
       "        vertical-align: middle;\n",
       "    }\n",
       "\n",
       "    .dataframe tbody tr th {\n",
       "        vertical-align: top;\n",
       "    }\n",
       "\n",
       "    .dataframe thead th {\n",
       "        text-align: right;\n",
       "    }\n",
       "</style>\n",
       "<table border=\"1\" class=\"dataframe\">\n",
       "  <thead>\n",
       "    <tr style=\"text-align: right;\">\n",
       "      <th></th>\n",
       "      <th>sum_sq</th>\n",
       "      <th>df</th>\n",
       "      <th>F</th>\n",
       "      <th>PR(&gt;F)</th>\n",
       "    </tr>\n",
       "  </thead>\n",
       "  <tbody>\n",
       "    <tr>\n",
       "      <th>C(Event)</th>\n",
       "      <td>1.195112e+13</td>\n",
       "      <td>2.0</td>\n",
       "      <td>0.459211</td>\n",
       "      <td>0.632827</td>\n",
       "    </tr>\n",
       "    <tr>\n",
       "      <th>Residual</th>\n",
       "      <td>1.652608e+15</td>\n",
       "      <td>127.0</td>\n",
       "      <td>NaN</td>\n",
       "      <td>NaN</td>\n",
       "    </tr>\n",
       "  </tbody>\n",
       "</table>\n",
       "</div>"
      ],
      "text/plain": [
       "                sum_sq     df         F    PR(>F)\n",
       "C(Event)  1.195112e+13    2.0  0.459211  0.632827\n",
       "Residual  1.652608e+15  127.0       NaN       NaN"
      ]
     },
     "execution_count": 258,
     "metadata": {},
     "output_type": "execute_result"
    }
   ],
   "source": [
    "# Ordinary Least Squares (OLS) model\n",
    "import statsmodels.api as sm\n",
    "from statsmodels.formula.api import ols\n",
    "model = ols('Funds ~ C(Event)', data=new_df).fit()\n",
    "anova_table = sm.stats.anova_lm(model, typ=2)\n",
    "anova_table"
   ]
  },
  {
   "cell_type": "markdown",
   "id": "6083328a",
   "metadata": {},
   "source": [
    "The p value obtained from ANOVA analysis is not significant (p > 0.05), and therefore, we conclude that there are no significant differences among treatments."
   ]
  },
  {
   "cell_type": "markdown",
   "id": "b27a04f7",
   "metadata": {},
   "source": [
    "<b>• Plot the distribution plot comparing the 3 city events."
   ]
  },
  {
   "cell_type": "code",
   "execution_count": 272,
   "id": "b9ee4c12",
   "metadata": {},
   "outputs": [
    {
     "data": {
      "text/plain": [
       "Disrupt Beijing 2011         18\n",
       "Disrupt London 2015          15\n",
       "Hardware Battlefield 2015    15\n",
       "Hardware Battlefield 2014    14\n",
       "Disrupt London 2016          13\n",
       "Hardware Battlefield 2016    13\n",
       "Name: Event, dtype: int64"
      ]
     },
     "execution_count": 272,
     "metadata": {},
     "output_type": "execute_result"
    },
    {
     "data": {
      "image/png": "[encoded data removed]",
      "text/plain": [
       "<Figure size 432x288 with 1 Axes>"
      ]
     },
     "metadata": {},
     "output_type": "display_data"
    }
   ],
   "source": [
    "data_copy[data_copy[\"Event\"].str.contains(\"Beijing|London|Battlefield\", na=False)][\"Event\"].value_counts().plot(kind='bar')\n",
    "data_copy[data_copy[\"Event\"].str.contains(\"Beijing|London|Battlefield\", na=False)][\"Event\"].value_counts()"
   ]
  },
  {
   "cell_type": "code",
   "execution_count": 278,
   "id": "dfbabd0e",
   "metadata": {},
   "outputs": [
    {
     "data": {
      "text/plain": [
       "array([[<AxesSubplot:title={'center':'Disrupt Beijing 2011'}>,\n",
       "        <AxesSubplot:title={'center':'Disrupt London 2015'}>],\n",
       "       [<AxesSubplot:title={'center':'Disrupt London 2016'}>,\n",
       "        <AxesSubplot:title={'center':'Hardware Battlefield 2014'}>],\n",
       "       [<AxesSubplot:title={'center':'Hardware Battlefield 2015'}>,\n",
       "        <AxesSubplot:title={'center':'Hardware Battlefield 2016'}>]],\n",
       "      dtype=object)"
      ]
     },
     "execution_count": 278,
     "metadata": {},
     "output_type": "execute_result"
    },
    {
     "data": {
      "image/png": "[encoded data removed]",
      "text/plain": [
       "<Figure size 432x288 with 6 Axes>"
      ]
     },
     "metadata": {},
     "output_type": "display_data"
    }
   ],
   "source": [
    "data1[data1[\"Event\"].str.contains(\"Beijing|London|Battlefield\", na=False)][[\"Event\",\"Funding\"]].hist(by=\n",
    "                                                                                                     'Event',column = 'Funding')"
   ]
  },
  {
   "cell_type": "markdown",
   "id": "297a39a7",
   "metadata": {},
   "source": [
    "### 5. Write your observations on improvements or suggestions on quality, quantity, variety, velocity, veracity etc. on the data points collected to perform a better data analysis."
   ]
  },
  {
   "cell_type": "markdown",
   "id": "7fcb9bf7",
   "metadata": {},
   "source": [
    "The product column contains the website address. There are missing values in Funding columns.\n",
    "<br>Capturing the right data is important. "
   ]
  },
  {
   "cell_type": "code",
   "execution_count": null,
   "id": "dc500abb",
   "metadata": {},
   "outputs": [],
   "source": []
  }
 ],
 "metadata": {
  "kernelspec": {
   "display_name": "Python 3",
   "language": "python",
   "name": "python3"
  },
  "language_info": {
   "codemirror_mode": {
    "name": "ipython",
    "version": 3
   },
   "file_extension": ".py",
   "mimetype": "text/x-python",
   "name": "python",
   "nbconvert_exporter": "python",
   "pygments_lexer": "ipython3",
   "version": "3.8.10"
  }
 },
 "nbformat": 4,
 "nbformat_minor": 5
}
