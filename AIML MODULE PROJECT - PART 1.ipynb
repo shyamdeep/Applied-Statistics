{
 "cells": [
  {
   "cell_type": "markdown",
   "id": "805c60fd",
   "metadata": {},
   "source": [
    "# <center> AIML MODULE PROJECT"
   ]
  },
  {
   "cell_type": "markdown",
   "id": "53aa3f2c",
   "metadata": {},
   "source": [
    "### PART I"
   ]
  },
  {
   "cell_type": "markdown",
   "id": "7d7f7975",
   "metadata": {},
   "source": [
    "#### 1. Question: Please refer the table below to answer below questions: "
   ]
  },
  {
   "cell_type": "markdown",
   "id": "da32f42c",
   "metadata": {},
   "source": [
    "|Planned to purchase Product A |Actually placed and order for Product A - Yes|Actually placed and order for Product A - No|Total|\n",
    "|:-|:-|:-|:-|\n",
    "|Yes|400|100|500|\n",
    "|No|200|1300|1500|\n",
    "|Total|600|1400|2000|"
   ]
  },
  {
   "cell_type": "markdown",
   "id": "1d2608ce",
   "metadata": {},
   "source": [
    "      1.  probability of the people who planned to purchase and actually placed an order \n",
    "                 = 400/2000\n",
    "                 = 0.2\n",
    "        "
   ]
  },
  {
   "cell_type": "markdown",
   "id": "a70eb21c",
   "metadata": {},
   "source": [
    "      2. find the joint probability of the people who planned to purchase and actually placed an order, \n",
    "       given that people planned to purchase.\n",
    "                 = 400/500\n",
    "                 = 0.8"
   ]
  },
  {
   "cell_type": "markdown",
   "id": "2cb9ee5a",
   "metadata": {},
   "source": [
    "#### 2. Question:\n",
    "An electrical manufacturing company conducts quality checks at specified periods on the products it manufactures. Historically, the failure rate for the manufactured item is 5%. Suppose a random sample of 10 manufactured items is selected. Answer the following questions."
   ]
  },
  {
   "cell_type": "markdown",
   "id": "792f8d7b",
   "metadata": {},
   "source": [
    "<b>Binomial Distribution"
   ]
  },
  {
   "cell_type": "code",
   "execution_count": 1,
   "id": "a336efaf",
   "metadata": {},
   "outputs": [],
   "source": [
    "import numpy as np\n",
    "import scipy.stats as stats\n",
    "import matplotlib.pyplot as plt"
   ]
  },
  {
   "cell_type": "code",
   "execution_count": 2,
   "id": "8b21b79f",
   "metadata": {},
   "outputs": [
    {
     "data": {
      "text/plain": [
       "array([ 0,  1,  2,  3,  4,  5,  6,  7,  8,  9, 10])"
      ]
     },
     "execution_count": 2,
     "metadata": {},
     "output_type": "execute_result"
    }
   ],
   "source": [
    "n=10\n",
    "p=0.05\n",
    "k=np.arange(0,11)\n",
    "k"
   ]
  },
  {
   "cell_type": "code",
   "execution_count": 3,
   "id": "098c583f",
   "metadata": {},
   "outputs": [
    {
     "data": {
      "text/plain": [
       "array([0.59873694, 0.3151247 , 0.0746348 , 0.01047506, 0.00096481,\n",
       "       0.00006094, 0.00000267, 0.00000008, 0.        , 0.        ,\n",
       "       0.        ])"
      ]
     },
     "execution_count": 3,
     "metadata": {},
     "output_type": "execute_result"
    }
   ],
   "source": [
    "np.set_printoptions(suppress=True)\n",
    "binomial = stats.binom.pmf(k,n,p)\n",
    "binomial"
   ]
  },
  {
   "cell_type": "code",
   "execution_count": 4,
   "id": "33f0c7fe",
   "metadata": {},
   "outputs": [
    {
     "data": {
      "image/png": "[encoded data removed]",
      "text/plain": [
       "<Figure size 432x288 with 1 Axes>"
      ]
     },
     "metadata": {
      "needs_background": "light"
     },
     "output_type": "display_data"
    }
   ],
   "source": [
    "plt.plot(k,binomial,'o-')\n",
    "plt.title('Binomial: n=%i , p=%.2f' % (n,p), fontsize=15)\n",
    "plt.xlabel('Number of Successes')\n",
    "plt.ylabel('Probability of Successes')\n",
    "plt.show()"
   ]
  },
  {
   "cell_type": "markdown",
   "id": "33290123",
   "metadata": {},
   "source": [
    "<b> A. Probability that none of the items are defective?</b>\n",
    "        <br>  P(x) = ⁿCₓpˣqⁿ⁻ˣ"
   ]
  },
  {
   "cell_type": "code",
   "execution_count": 5,
   "id": "6a335284",
   "metadata": {},
   "outputs": [
    {
     "name": "stdout",
     "output_type": "stream",
     "text": [
      "P(x=0) = 0.5987369392383789\n"
     ]
    }
   ],
   "source": [
    "print(\"P(x=0) =\",binomial[0])"
   ]
  },
  {
   "cell_type": "markdown",
   "id": "022e693b",
   "metadata": {},
   "source": [
    "   <b> B. Probability that exactly one of the items is defective?"
   ]
  },
  {
   "cell_type": "code",
   "execution_count": 6,
   "id": "d1e89703",
   "metadata": {},
   "outputs": [
    {
     "name": "stdout",
     "output_type": "stream",
     "text": [
      "P(x=1) = 0.31512470486230504\n"
     ]
    }
   ],
   "source": [
    "print(\"P(x=1) =\",binomial[1])"
   ]
  },
  {
   "cell_type": "markdown",
   "id": "cc0c6a68",
   "metadata": {},
   "source": [
    "  <b>  C. Probability that two or fewer of the items are defective?"
   ]
  },
  {
   "cell_type": "code",
   "execution_count": 7,
   "id": "74d55547",
   "metadata": {},
   "outputs": [
    {
     "name": "stdout",
     "output_type": "stream",
     "text": [
      "P(0) + P(1) + P(2) = 0.9884964426207035\n"
     ]
    }
   ],
   "source": [
    "print(\"P(0) + P(1) + P(2) =\",sum(binomial[0:3]))"
   ]
  },
  {
   "cell_type": "markdown",
   "id": "f23c8e47",
   "metadata": {},
   "source": [
    "<b> D. Probability that three or more of the items are defective ?"
   ]
  },
  {
   "cell_type": "code",
   "execution_count": 8,
   "id": "bba417fc",
   "metadata": {},
   "outputs": [
    {
     "name": "stdout",
     "output_type": "stream",
     "text": [
      "1 -  (P(0) + P(1) + P(2) = 0.011503557379296536\n",
      "1 -  (P(0) + P(1) + P(2) = 0.011503557379296881\n"
     ]
    }
   ],
   "source": [
    "print(\"1 -  (P(0) + P(1) + P(2) =\", (1-sum(binomial[0:3])))\n",
    "print(\"1 -  (P(0) + P(1) + P(2) =\",sum(binomial[3:]))"
   ]
  },
  {
   "cell_type": "markdown",
   "id": "ef64eca4",
   "metadata": {},
   "source": [
    "#### 3. Question: A car salesman sells on an average 3 cars per week. "
   ]
  },
  {
   "cell_type": "markdown",
   "id": "7d2b8cef",
   "metadata": {},
   "source": [
    "<b>Poisson Distribution"
   ]
  },
  {
   "cell_type": "code",
   "execution_count": 9,
   "id": "b79e0182",
   "metadata": {},
   "outputs": [
    {
     "data": {
      "text/plain": [
       "array([0.04978707, 0.14936121, 0.22404181, 0.22404181, 0.16803136,\n",
       "       0.10081881, 0.05040941, 0.02160403, 0.00810151, 0.0027005 ,\n",
       "       0.00081015, 0.00022095, 0.00005524, 0.00001275, 0.00000273,\n",
       "       0.00000055, 0.0000001 , 0.00000002, 0.        , 0.        ])"
      ]
     },
     "execution_count": 9,
     "metadata": {},
     "output_type": "execute_result"
    }
   ],
   "source": [
    "rate = 3\n",
    "n=np.arange(0,20)\n",
    "poisson = stats.poisson.pmf(n,rate)\n",
    "poisson"
   ]
  },
  {
   "cell_type": "markdown",
   "id": "65236170",
   "metadata": {},
   "source": [
    "<b>A. Probability that in a given week he will sell some cars"
   ]
  },
  {
   "cell_type": "code",
   "execution_count": 10,
   "id": "310f228e",
   "metadata": {},
   "outputs": [
    {
     "name": "stdout",
     "output_type": "stream",
     "text": [
      "P(x>0) = 1- P(x=0) = 0.950212931632136\n"
     ]
    }
   ],
   "source": [
    "print(\"P(x>0) = 1- P(x=0) =\", (1-poisson[0]))"
   ]
  },
  {
   "cell_type": "markdown",
   "id": "74df14d8",
   "metadata": {},
   "source": [
    "<b>B. Probability that in a given week he will sell 2 or more but less than 5 cars"
   ]
  },
  {
   "cell_type": "code",
   "execution_count": 11,
   "id": "4ac4fbd7",
   "metadata": {},
   "outputs": [
    {
     "name": "stdout",
     "output_type": "stream",
     "text": [
      "p(2<=x<5) = 0.6161149710523164\n"
     ]
    }
   ],
   "source": [
    "print(\"p(2<=x<5) =\", sum(poisson[2:5])) # Excluding 5"
   ]
  },
  {
   "cell_type": "markdown",
   "id": "d97e5fb7",
   "metadata": {},
   "source": [
    "<b>C. Plot the poisson distribution function for cumulative probability of cars sold per-week vs number of cars sold perweek."
   ]
  },
  {
   "cell_type": "code",
   "execution_count": 12,
   "id": "b0771547",
   "metadata": {},
   "outputs": [
    {
     "data": {
      "image/png": "[encoded data removed]",
      "text/plain": [
       "<Figure size 432x288 with 1 Axes>"
      ]
     },
     "metadata": {
      "needs_background": "light"
     },
     "output_type": "display_data"
    }
   ],
   "source": [
    "#visualising the plot with pyplot\n",
    "\n",
    "plt.plot(n,poisson,'o-')\n",
    "plt.title('Poisson: $\\lambda$ = %i ' % rate)\n",
    "plt.xlabel('Number of Customers Arriving in a minute')\n",
    "plt.ylabel('Probability of Number of Customers arriving in a minute')\n",
    "plt.show()"
   ]
  },
  {
   "cell_type": "markdown",
   "id": "29a4241c",
   "metadata": {},
   "source": [
    "#### 4. Question:\n",
    "Accuracy in understanding orders for a speech based bot at a restaurant is important for the Company X which has designed, marketed and launched the product for a contactless delivery due to the COVID-19 pandemic. Recognition accuracy that measures the percentage of orders that are taken correctly is 86.8%. Suppose that you place order with the bot and two friends of yours independently place orders with the same bot. Answer the following questions."
   ]
  },
  {
   "cell_type": "markdown",
   "id": "508bfed0",
   "metadata": {},
   "source": [
    "<b> Binomial Distribution"
   ]
  },
  {
   "cell_type": "code",
   "execution_count": 13,
   "id": "c3c2fd78",
   "metadata": {},
   "outputs": [
    {
     "data": {
      "text/plain": [
       "array([0.00229997, 0.0453721 , 0.2983559 , 0.65397203])"
      ]
     },
     "execution_count": 13,
     "metadata": {},
     "output_type": "execute_result"
    }
   ],
   "source": [
    "n=3\n",
    "p=0.868\n",
    "k=np.arange(0,4)\n",
    "binomial = stats.binom.pmf(k,n,p)\n",
    "binomial"
   ]
  },
  {
   "cell_type": "markdown",
   "id": "6a67b95c",
   "metadata": {},
   "source": [
    "<b>A. What is the probability that all three orders will be recognised correctly?"
   ]
  },
  {
   "cell_type": "code",
   "execution_count": 14,
   "id": "e3e2fed0",
   "metadata": {},
   "outputs": [
    {
     "name": "stdout",
     "output_type": "stream",
     "text": [
      "p(x=3) = 0.653972032\n"
     ]
    }
   ],
   "source": [
    "print(\"p(x=3) =\",binomial[3])"
   ]
  },
  {
   "cell_type": "markdown",
   "id": "7a8c07ad",
   "metadata": {},
   "source": [
    "<b>B. What is the probability that none of the three orders will be recognised correctly?"
   ]
  },
  {
   "cell_type": "code",
   "execution_count": 15,
   "id": "d4963ecd",
   "metadata": {},
   "outputs": [
    {
     "name": "stdout",
     "output_type": "stream",
     "text": [
      "P(x=0) = 0.002299968\n"
     ]
    }
   ],
   "source": [
    "print(\"P(x=0) =\",binomial[0])"
   ]
  },
  {
   "cell_type": "markdown",
   "id": "70dcf168",
   "metadata": {},
   "source": [
    "<b>C. What is the probability that at least two of the three orders will be recognised correctly?"
   ]
  },
  {
   "cell_type": "code",
   "execution_count": 16,
   "id": "64f6664a",
   "metadata": {},
   "outputs": [
    {
     "name": "stdout",
     "output_type": "stream",
     "text": [
      "P(x>=2) = P(X=2)+P(x=3) = 0.9523279359999999\n"
     ]
    }
   ],
   "source": [
    "print(\"P(x>=2) = P(X=2)+P(x=3) =\",sum(binomial[2:]))"
   ]
  },
  {
   "cell_type": "markdown",
   "id": "16bdc075",
   "metadata": {},
   "source": [
    "#### 5. Question:\n",
    "A group of 300 professionals sat for a competitive exam. The results show the information of marks obtained by them have a mean of 60 and a standard deviation of 12. The pattern of marks follows a normal distribution. Answer the following questions."
   ]
  },
  {
   "cell_type": "markdown",
   "id": "a551958f",
   "metadata": {},
   "source": [
    "<b>A. What is the percentage of students who score more than 80."
   ]
  },
  {
   "cell_type": "code",
   "execution_count": 18,
   "id": "ee0d4a01",
   "metadata": {},
   "outputs": [
    {
     "data": {
      "text/plain": [
       "0.047790352272814696"
      ]
     },
     "execution_count": 18,
     "metadata": {},
     "output_type": "execute_result"
    }
   ],
   "source": [
    "1-stats.norm.cdf(80,loc=60,scale=12)"
   ]
  },
  {
   "cell_type": "markdown",
   "id": "6db8c04e",
   "metadata": {},
   "source": [
    "<b>B. What is the percentage of students who score less than 50"
   ]
  },
  {
   "cell_type": "code",
   "execution_count": 19,
   "id": "c95d3035",
   "metadata": {},
   "outputs": [
    {
     "data": {
      "text/plain": [
       "0.20232838096364308"
      ]
     },
     "execution_count": 19,
     "metadata": {},
     "output_type": "execute_result"
    }
   ],
   "source": [
    "stats.norm.cdf(50,loc=60,scale=12)"
   ]
  },
  {
   "cell_type": "markdown",
   "id": "23c6a3b1",
   "metadata": {},
   "source": [
    "<b>C. What should be the distinction mark if the highest 10% of students are to be awarded distinction?"
   ]
  },
  {
   "cell_type": "code",
   "execution_count": 22,
   "id": "d59ebb78",
   "metadata": {},
   "outputs": [
    {
     "data": {
      "text/plain": [
       "1.2815515655446004"
      ]
     },
     "execution_count": 22,
     "metadata": {},
     "output_type": "execute_result"
    }
   ],
   "source": [
    "#Calculate z value\n",
    "z =stats.norm.ppf(0.90)\n",
    "z"
   ]
  },
  {
   "cell_type": "code",
   "execution_count": 23,
   "id": "8e3f241d",
   "metadata": {},
   "outputs": [
    {
     "data": {
      "text/plain": [
       "75.3786187865352"
      ]
     },
     "execution_count": 23,
     "metadata": {},
     "output_type": "execute_result"
    }
   ],
   "source": [
    "#x=z*Standard Deviation+Mean\n",
    "z*12+60"
   ]
  },
  {
   "cell_type": "code",
   "execution_count": 27,
   "id": "11c7126d",
   "metadata": {},
   "outputs": [
    {
     "name": "stdout",
     "output_type": "stream",
     "text": [
      "Distinction marks = 75.3786187865352\n"
     ]
    }
   ],
   "source": [
    "print(\"Distinction marks =\",stats.norm.ppf(0.90, loc=60, scale=12))"
   ]
  },
  {
   "cell_type": "markdown",
   "id": "ef7156b0",
   "metadata": {},
   "source": [
    "#### 6. Question:\n",
    "Explain 1 real life industry scenario [other than the ones mentioned above] where you can use the\n",
    "concepts learnt in this module of Applied statistics to get a data driven business solution.\n"
   ]
  },
  {
   "cell_type": "markdown",
   "id": "d231ef4f",
   "metadata": {},
   "source": [
    "Example of poisson distribution: \n",
    "    The number of customers visiting a bank per hour during peak business period.\n",
    "    \n",
    "Example of Binomial Distribution:\n",
    "     If a new drug is introduced to cure a disease, it either cures the disease (it's successful) or it doesn't cure the disease (it's a failure)"
   ]
  },
  {
   "cell_type": "code",
   "execution_count": null,
   "id": "f56fc2d7",
   "metadata": {},
   "outputs": [],
   "source": []
  }
 ],
 "metadata": {
  "kernelspec": {
   "display_name": "Python 3",
   "language": "python",
   "name": "python3"
  },
  "language_info": {
   "codemirror_mode": {
    "name": "ipython",
    "version": 3
   },
   "file_extension": ".py",
   "mimetype": "text/x-python",
   "name": "python",
   "nbconvert_exporter": "python",
   "pygments_lexer": "ipython3",
   "version": "3.8.10"
  }
 },
 "nbformat": 4,
 "nbformat_minor": 5
}
